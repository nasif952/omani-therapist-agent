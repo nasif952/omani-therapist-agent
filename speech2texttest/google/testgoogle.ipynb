{
  "cells": [
    {
      "cell_type": "code",
      "execution_count": 9,
      "metadata": {},
      "outputs": [
        {
          "name": "stdout",
          "output_type": "stream",
          "text": [
            "✓ Credentials file found: fifth-composite-447618-f0-107a2a701931.json\n",
            "Calibrating for ambient noise... Please wait.\n",
            "Please speak in Omani Arabic (or play a test audio) and wait for transcription...\n",
            "Audio captured! Transcribing...\n",
            "Google Cloud recognized:\n",
            "هو احد الله الصمد لم يلد ولم يولد ولم يكن له كفوا احد\n"
          ]
        }
      ],
      "source": [
        "import speech_recognition as sr\n",
        "import os\n",
        "\n",
        "# Set path to your service account key file\n",
        "# Note: Place your Google Cloud credentials JSON file in the same directory\n",
        "# and update the filename below to match your actual credentials file\n",
        "GOOGLE_CLOUD_SPEECH_CREDENTIALS_PATH = \"fifth-composite-447618-f0-107a2a701931.json\"\n",
        "\n",
        "# Check if credentials file exists\n",
        "if not os.path.exists(GOOGLE_CLOUD_SPEECH_CREDENTIALS_PATH):\n",
        "    print(f\"Error: Credentials file '{GOOGLE_CLOUD_SPEECH_CREDENTIALS_PATH}' not found!\")\n",
        "    print(\"Please place your Google Cloud service account JSON file in this directory.\")\n",
        "    print(\"Make sure the filename matches the one specified above.\")\n",
        "else:\n",
        "    print(f\"✓ Credentials file found: {GOOGLE_CLOUD_SPEECH_CREDENTIALS_PATH}\")\n",
        "\n",
        "recognizer = sr.Recognizer()\n",
        "\n",
        "# Optionally, adjust for ambient noise (useful for noisy environments)\n",
        "with sr.Microphone() as source:\n",
        "    print(\"Calibrating for ambient noise... Please wait.\")\n",
        "    recognizer.adjust_for_ambient_noise(source, duration=1)\n",
        "\n",
        "# Start listening from the mic\n",
        "with sr.Microphone() as source:\n",
        "    print(\"Please speak in Omani Arabic (or play a test audio) and wait for transcription...\")\n",
        "    audio = recognizer.listen(source)\n",
        "    print(\"Audio captured! Transcribing...\")\n",
        "\n",
        "try:\n",
        "    result = recognizer.recognize_google_cloud(\n",
        "        audio,\n",
        "        credentials_json_path=GOOGLE_CLOUD_SPEECH_CREDENTIALS_PATH,\n",
        "        language_code=\"ar-OM\"  # <--- This ensures Omani Arabic transcription\n",
        "    )\n",
        "    print(\"Google Cloud recognized:\")\n",
        "    print(result)\n",
        "except sr.UnknownValueError:\n",
        "    print(\"Google Cloud could not understand audio\")\n",
        "except sr.RequestError as e:\n",
        "    print(\"Could not request results from Google Cloud; {0}\".format(e))\n"
      ]
    }
  ],
  "metadata": {
    "kernelspec": {
      "display_name": "Python 3",
      "language": "python",
      "name": "python3"
    },
    "language_info": {
      "name": "python",
      "version": "3.10.6"
    }
  },
  "nbformat": 4,
  "nbformat_minor": 2
}
