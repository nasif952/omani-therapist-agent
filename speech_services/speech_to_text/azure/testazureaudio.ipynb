{
 "cells": [
  {
   "cell_type": "code",
   "execution_count": null,
   "id": "47ce30d4",
   "metadata": {},
   "outputs": [],
   "source": [
    "import azure.cognitiveservices.speech as speechsdk\n",
    "\n",
    "speech_key = \"YOUR_AZURE_KEY\"\n",
    "service_region = \"YOUR_REGION\"   # e.g., \"uaenorth\"\n",
    "\n",
    "speech_config = speechsdk.SpeechConfig(subscription=speech_key, region=service_region)\n",
    "speech_config.speech_recognition_language = \"ar-OM\"   # Omani Arabic\n",
    "\n",
    "audio_config = speechsdk.AudioConfig(filename=\"test_arabic_oman.wav\")\n",
    "\n",
    "speech_recognizer = speechsdk.SpeechRecognizer(speech_config=speech_config, audio_config=audio_config)\n",
    "\n",
    "result = speech_recognizer.recognize_once()\n",
    "print(\"Recognized: {}\".format(result.text))\n"
   ]
  }
 ],
 "metadata": {
  "language_info": {
   "name": "python"
  }
 },
 "nbformat": 4,
 "nbformat_minor": 5
}
